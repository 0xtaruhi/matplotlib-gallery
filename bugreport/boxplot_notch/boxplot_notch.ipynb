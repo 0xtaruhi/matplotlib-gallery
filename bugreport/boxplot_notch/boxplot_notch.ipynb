{
 "metadata": {
  "name": "",
  "signature": "sha256:85c08a928d80a47defe9601bbe412700d3c1e065d1614363d24c8383831030fe"
 },
 "nbformat": 3,
 "nbformat_minor": 0,
 "worksheets": [
  {
   "cells": [
    {
     "cell_type": "code",
     "collapsed": false,
     "input": [
      "%load_ext watermark"
     ],
     "language": "python",
     "metadata": {},
     "outputs": [],
     "prompt_number": 1
    },
    {
     "cell_type": "code",
     "collapsed": false,
     "input": [
      "%watermark -a 'Sebastian Raschka' -d -v -p matplotlib,numpy"
     ],
     "language": "python",
     "metadata": {},
     "outputs": [
      {
       "output_type": "stream",
       "stream": "stdout",
       "text": [
        "Sebastian Raschka 10/10/2014 \n",
        "\n",
        "CPython 3.4.1\n",
        "IPython 2.0.0\n",
        "\n",
        "matplotlib 1.4.0\n",
        "numpy 1.9.0\n"
       ]
      }
     ],
     "prompt_number": 2
    },
    {
     "cell_type": "heading",
     "level": 2,
     "metadata": {},
     "source": [
      "Example Data"
     ]
    },
    {
     "cell_type": "code",
     "collapsed": false,
     "input": [
      "import numpy as np\n",
      "ary = np.array([[ 0.76223776,  0.71328671,  0.87412587,  0.77408175,  0.79020979,\n",
      "         0.67132867,  0.70629371],\n",
      "       [ 0.69230769,  0.29772375,  0.79020979,  0.55789817,  0.51748252,\n",
      "         0.69230769,  0.58741259],\n",
      "       [ 0.32167832,  0.2253577 ,  0.36363636,  0.55944056, -0.3006993 ,\n",
      "         0.07692308,  0.37062937],\n",
      "       [ 0.57142857,        0,  0.57142857,  0.81084372,  0.85714286,\n",
      "         0.53571429,  0.42857143],\n",
      "       [ 0.38461538,  0.35164835,  0.7032967 ,  0.64835165,  0.52747253,\n",
      "         0.52747253,  0.54395604],\n",
      "       [ 0.42892157,  0.58840274,  0.83823529,  0.81054583,  0.88480392,\n",
      "         0.56127451,  0.79901961],\n",
      "       [ 0.78571429,  0.28571429,  0.57142857,  0.32142857,  0.53571429,\n",
      "         0.67857143,  0.71428571],\n",
      "       [ 0.51648352,  0.86813187,  0.85714286,  0.81818492,  0.73626374,\n",
      "         0.5989011 ,  0.48901099],\n",
      "       [ 0.59803922, -0.01470588,  0.56617647,  0.91911765,  0.72303922,\n",
      "         0.3995098 ,  0.37254902],\n",
      "       [ 0.69090909,  0.22779102,  0.43636364,  0.44545455, -0.27272727,\n",
      "         0.13636364,  0.02727273],\n",
      "       [ 0.40970072,  0.55343322,  0.51702786,  0.8121775 ,  0.8369453 ,\n",
      "         0.78534572,  0.72342621]])"
     ],
     "language": "python",
     "metadata": {},
     "outputs": [],
     "prompt_number": 3
    },
    {
     "cell_type": "heading",
     "level": 2,
     "metadata": {},
     "source": [
      "Boxplot Notch problem"
     ]
    },
    {
     "cell_type": "code",
     "collapsed": false,
     "input": [
      "%matplotlib inline"
     ],
     "language": "python",
     "metadata": {},
     "outputs": [],
     "prompt_number": 4
    },
    {
     "cell_type": "code",
     "collapsed": false,
     "input": [
      "import matplotlib.pyplot as plt\n",
      "\n",
      "def boxplot1(data):\n",
      "\n",
      "    fig = plt.figure(figsize=(8,6))\n",
      "    ax = plt.subplot(111) \n",
      "\n",
      "    bplot = plt.boxplot(data, \n",
      "            notch=True,          # notch shape \n",
      "            vert=True,           # vertical box aligmnent\n",
      "            sym='ko',            # red circle for outliers\n",
      "            patch_artist=True,   # fill with color\n",
      "            )   \n",
      "\n",
      "    plt.show()\n",
      "boxplot1(ary)"
     ],
     "language": "python",
     "metadata": {},
     "outputs": [
      {
       "metadata": {},
       "output_type": "display_data",
       "png": "[encoded data removed]",
       "text": [
        "<matplotlib.figure.Figure at 0x1065bf7b8>"
       ]
      }
     ],
     "prompt_number": 5
    },
    {
     "cell_type": "heading",
     "level": 2,
     "metadata": {},
     "source": [
      "Boxplot without Notch"
     ]
    },
    {
     "cell_type": "code",
     "collapsed": false,
     "input": [
      "def boxplot2(data):\n",
      "\n",
      "    fig = plt.figure(figsize=(8,6))\n",
      "    ax = plt.subplot(111) \n",
      "\n",
      "    bplot = plt.boxplot(data, \n",
      "            #notch=True,          # notch shape \n",
      "            vert=True,           # vertical box aligmnent\n",
      "            sym='ko',            # red circle for outliers\n",
      "            patch_artist=True,   # fill with color\n",
      "            )   \n",
      "\n",
      "    plt.show()\n",
      "boxplot2(ary)"
     ],
     "language": "python",
     "metadata": {},
     "outputs": [
      {
       "metadata": {},
       "output_type": "display_data",
       "png": "[encoded data removed]",
       "text": [
        "<matplotlib.figure.Figure at 0x1065bf6a0>"
       ]
      }
     ],
     "prompt_number": 6
    },
    {
     "cell_type": "code",
     "collapsed": false,
     "input": [],
     "language": "python",
     "metadata": {},
     "outputs": [],
     "prompt_number": 6
    }
   ],
   "metadata": {}
  }
 ]
}