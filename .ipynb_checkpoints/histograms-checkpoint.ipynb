{
 "metadata": {
  "name": "",
  "signature": "sha256:28cf934f5728d76697b22c07794ee28bcf5ff1fd617658148ae03346902a1025"
 },
 "nbformat": 3,
 "nbformat_minor": 0,
 "worksheets": [
  {
   "cells": [
    {
     "cell_type": "markdown",
     "metadata": {},
     "source": [
      "[Sebastian Raschka](http://www.sebastianraschka.com)"
     ]
    },
    {
     "cell_type": "code",
     "collapsed": false,
     "input": [
      "%load_ext watermark"
     ],
     "language": "python",
     "metadata": {},
     "outputs": [],
     "prompt_number": 1
    },
    {
     "cell_type": "code",
     "collapsed": false,
     "input": [
      "%watermark"
     ],
     "language": "python",
     "metadata": {},
     "outputs": [
      {
       "output_type": "stream",
       "stream": "stdout",
       "text": [
        "02/07/2014 14:29:03\n",
        "\n",
        "CPython 3.4.1\n",
        "IPython 2.0.0\n",
        "\n",
        "compiler   : GCC 4.2.1 (Apple Inc. build 5577)\n",
        "system     : Darwin\n",
        "release    : 13.2.0\n",
        "machine    : x86_64\n",
        "processor  : i386\n",
        "CPU cores  : 4\n",
        "interpreter: 64bit\n"
       ]
      }
     ],
     "prompt_number": 2
    },
    {
     "cell_type": "code",
     "collapsed": false,
     "input": [
      "%matplotlib inline"
     ],
     "language": "python",
     "metadata": {},
     "outputs": [],
     "prompt_number": 3
    },
    {
     "cell_type": "markdown",
     "metadata": {},
     "source": [
      "<br>\n",
      "<br>"
     ]
    },
    {
     "cell_type": "heading",
     "level": 1,
     "metadata": {},
     "source": [
      "Sections"
     ]
    },
    {
     "cell_type": "markdown",
     "metadata": {},
     "source": [
      "- [Simple histogram](#Simple-histogram)\n",
      "\n",
      "- [Histogram of 2 overlapping data sets](#Histogram-of-2-overlapping-data-sets)"
     ]
    },
    {
     "cell_type": "markdown",
     "metadata": {},
     "source": [
      "<br>\n",
      "<br>"
     ]
    },
    {
     "cell_type": "markdown",
     "metadata": {},
     "source": [
      "<br>\n",
      "<br>"
     ]
    },
    {
     "cell_type": "heading",
     "level": 1,
     "metadata": {},
     "source": [
      "Simple histogram"
     ]
    },
    {
     "cell_type": "markdown",
     "metadata": {},
     "source": [
      "[[back to top](#Sections)]"
     ]
    },
    {
     "cell_type": "code",
     "collapsed": false,
     "input": [
      "import numpy as np\n",
      "import random\n",
      "from matplotlib import pyplot as plt\n",
      "\n",
      "data = [random.gauss(10,10) for i in range(1000)]  \n",
      "bins = np.arange(-60, 60, 5)\n",
      "plt.xlim([min(data)-5, max(data)+5])\n",
      "\n",
      "plt.hist(data, bins=bins, alpha=0.5)\n",
      "plt.title('Random Gaussian data')\n",
      "plt.xlabel('variable X')\n",
      "plt.ylabel('count')\n",
      "\n",
      "\n",
      "plt.show()\n"
     ],
     "language": "python",
     "metadata": {},
     "outputs": [
      {
       "metadata": {},
       "output_type": "display_data",
       "png": "[encoded data removed]",
       "text": [
        "<matplotlib.figure.Figure at 0x105fe7450>"
       ]
      }
     ],
     "prompt_number": 3
    },
    {
     "cell_type": "markdown",
     "metadata": {},
     "source": [
      "<br>\n",
      "<br>"
     ]
    },
    {
     "cell_type": "heading",
     "level": 1,
     "metadata": {},
     "source": [
      "Histogram of 2 overlapping data sets"
     ]
    },
    {
     "cell_type": "markdown",
     "metadata": {},
     "source": [
      "[[back to top](#Sections)]"
     ]
    },
    {
     "cell_type": "code",
     "collapsed": false,
     "input": [
      "import numpy as np\n",
      "import random\n",
      "from matplotlib import pyplot as plt\n",
      "\n",
      "data1 = [random.gauss(15,10) for i in range(500)]  \n",
      "data2 = [random.gauss(5,5) for i in range(500)]  \n",
      "bins = np.arange(-60, 60, 2.5)\n",
      "plt.xlim([min(data1+data2)-5, max(data1+data2)+5])\n",
      "\n",
      "plt.hist(data1, bins=bins, alpha=0.3, label='class 1')\n",
      "plt.hist(data2, bins=bins, alpha=0.3, label='class 2')\n",
      "plt.title('Random Gaussian data')\n",
      "plt.xlabel('variable X')\n",
      "plt.ylabel('count')\n",
      "plt.legend(loc='upper right')\n",
      "\n",
      "\n",
      "plt.show()"
     ],
     "language": "python",
     "metadata": {},
     "outputs": [
      {
       "metadata": {},
       "output_type": "display_data",
       "png": "[encoded data removed]",
       "text": [
        "<matplotlib.figure.Figure at 0x10654ddd0>"
       ]
      }
     ],
     "prompt_number": 4
    },
    {
     "cell_type": "markdown",
     "metadata": {},
     "source": [
      "<br>\n",
      "<br>"
     ]
    },
    {
     "cell_type": "heading",
     "level": 1,
     "metadata": {},
     "source": [
      "Histogram as line plot"
     ]
    },
    {
     "cell_type": "markdown",
     "metadata": {},
     "source": [
      "[[back to top](#Sections)]"
     ]
    },
    {
     "cell_type": "markdown",
     "metadata": {},
     "source": [
      "The line plot below is using bins of a histogram and is particularly useful if you are working with many different overlapping data sets."
     ]
    },
    {
     "cell_type": "code",
     "collapsed": false,
     "input": [
      "# Generate a random Gaussian dataset with different means\n",
      "# 5 rows with 30 columns, where every row represents 1 sample.\n",
      "import numpy as np\n",
      "\n",
      "data = np.ones((5,30))\n",
      "for i in range(5):\n",
      "    data[i,:] = np.random.normal(loc=i/2, scale=1.0, size=30)"
     ],
     "language": "python",
     "metadata": {},
     "outputs": [],
     "prompt_number": 33
    },
    {
     "cell_type": "markdown",
     "metadata": {},
     "source": [
      "Via the `numpy.histogram` function, we can categorize our data into distinct bins."
     ]
    },
    {
     "cell_type": "code",
     "collapsed": false,
     "input": [
      "from math import floor, ceil # for rounding up and down\n",
      "\n",
      "data_min = floor(data.min()) # minimum val. of the dataset rounded down\n",
      "data_max = floor(data.max()) # maximum val. of the dataset rounded up\n",
      "\n",
      "bins_size = 0.5\n",
      "bins = np.arange(floor(data_min), ceil(data_max), bin_size)\n",
      "np.histogram(data[0,:], bins=bins)"
     ],
     "language": "python",
     "metadata": {},
     "outputs": [
      {
       "metadata": {},
       "output_type": "pyout",
       "prompt_number": 34,
       "text": [
        "(array([0, 5, 4, 9, 4, 6, 1, 1, 0]),\n",
        " array([-2. , -1.5, -1. , -0.5,  0. ,  0.5,  1. ,  1.5,  2. ,  2.5]))"
       ]
      }
     ],
     "prompt_number": 34
    },
    {
     "cell_type": "markdown",
     "metadata": {},
     "source": [
      "The [`numpy.histogram`](http://docs.scipy.org/doc/numpy/reference/generated/numpy.histogram.html) function returns a tuple, where the first value is an array of how many samples fall into the first bin, the second bin, and so forth.  \n",
      "The second value is another NumPy array; it contains the specified bins. Note that all bins but the last one are half open intervals, e.g., the first bin would be `[-1, -0.5)` (including -1, but not including -0.5), and the second bin would be `[-0.5,  0.)` (including -0.5, but not including 0). But the last bin is defined as `[4., 4.5]` (including 4 and including 4.5)."
     ]
    },
    {
     "cell_type": "code",
     "collapsed": false,
     "input": [
      "from matplotlib import pyplot as plt\n",
      "\n",
      "markers = ['^', 'v', 'o', 'p', 'x', 's', 'p', ',']\n",
      "\n",
      "plt.figure(figsize=(13,8))\n",
      "\n",
      "\n",
      "for row in range(data.shape[0]):\n",
      "    hist = np.histogram(data[row,:], bins=bins)\n",
      "    plt.errorbar(hist[1][:-1] + bin_size/2, \n",
      "             hist[0],  \n",
      "             alpha=0.3,\n",
      "             xerr=bin_size/2,\n",
      "             capsize=0,\n",
      "             fmt=None,\n",
      "             linewidth=8,\n",
      "             )\n",
      "\n",
      "plt.legend(['sample %s'%i for i in range(1, 6)])\n",
      "plt.grid()\n",
      "\n",
      "\n",
      "plt.title('Histogram showing bar heights but without bar area', fontsize=18)\n",
      "plt.ylabel('count', fontsize=14)\n",
      "plt.xlabel('X value (bin size = %s)'%bin_size, fontsize=14)\n",
      "\n",
      "plt.xticks(bins + bin_size)\n",
      "\n",
      "plt.show()"
     ],
     "language": "python",
     "metadata": {},
     "outputs": [
      {
       "metadata": {},
       "output_type": "display_data",
       "png": "[encoded data removed]",
       "text": [
        "<matplotlib.figure.Figure at 0x1064972b0>"
       ]
      }
     ],
     "prompt_number": 56
    },
    {
     "cell_type": "code",
     "collapsed": false,
     "input": [],
     "language": "python",
     "metadata": {},
     "outputs": []
    }
   ],
   "metadata": {}
  }
 ]
}