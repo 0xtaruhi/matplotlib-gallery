{
 "metadata": {
  "name": "",
  "signature": "sha256:17887a2b818c2a17eb3a19940faee67a06e3200d66ee0ad917c72397cbda75f2"
 },
 "nbformat": 3,
 "nbformat_minor": 0,
 "worksheets": [
  {
   "cells": [
    {
     "cell_type": "markdown",
     "metadata": {},
     "source": [
      "[Sebastian Raschka](http://www.sebastianraschka.com)\n",
      "\n",
      "[back](https://github.com/rasbt/matplotlib-gallery) to the `matplotlib-gallery` at [https://github.com/rasbt/matplotlib-gallery](https://github.com/rasbt/matplotlib-gallery)"
     ]
    },
    {
     "cell_type": "code",
     "collapsed": false,
     "input": [
      "%load_ext watermark"
     ],
     "language": "python",
     "metadata": {},
     "outputs": [],
     "prompt_number": 2
    },
    {
     "cell_type": "code",
     "collapsed": false,
     "input": [
      "%watermark -u -v -d -p matplotlib,numpy"
     ],
     "language": "python",
     "metadata": {},
     "outputs": [
      {
       "output_type": "stream",
       "stream": "stdout",
       "text": [
        "Last updated: 30/07/2014 \n",
        "\n",
        "CPython 3.4.1\n",
        "IPython 2.0.0\n",
        "\n",
        "matplotlib 1.3.1\n",
        "numpy 1.8.1\n"
       ]
      }
     ],
     "prompt_number": 3
    },
    {
     "cell_type": "markdown",
     "metadata": {},
     "source": [
      "<font size=\"1.5em\">[More info](http://nbviewer.ipython.org/github/rasbt/python_reference/blob/master/ipython_magic/watermark.ipynb) about the `%watermark` extension</font>"
     ]
    },
    {
     "cell_type": "code",
     "collapsed": false,
     "input": [
      "%matplotlib inline"
     ],
     "language": "python",
     "metadata": {},
     "outputs": [],
     "prompt_number": 4
    },
    {
     "cell_type": "markdown",
     "metadata": {},
     "source": [
      "<br>\n",
      "<br>"
     ]
    },
    {
     "cell_type": "heading",
     "level": 1,
     "metadata": {},
     "source": [
      "Sections"
     ]
    },
    {
     "cell_type": "markdown",
     "metadata": {},
     "source": [
      "- [Simple Boxplot](#Simple-Boxplot)\n",
      "\n",
      "- [Black and white Boxplot](#Black-and-white-Boxplot)\n",
      "\n",
      "- [Horizontal Boxplot](#Horizontal-Boxplot)\n",
      "\n",
      "- [Filled and cylindrical boxplots](#Filled-and-cylindrical-boxplots)\n",
      "\n",
      "- [Boxplots with custom fill colors](#Boxplots-with-custom-fill-colors)\n",
      "\n",
      "- [All options and parameters](#All-options-and-parameters)"
     ]
    },
    {
     "cell_type": "markdown",
     "metadata": {},
     "source": [
      "<br>\n",
      "<br>"
     ]
    },
    {
     "cell_type": "markdown",
     "metadata": {},
     "source": [
      "<br>\n",
      "<br>"
     ]
    },
    {
     "cell_type": "markdown",
     "metadata": {},
     "source": [
      "![](../images/intro_boxplot.png)"
     ]
    },
    {
     "cell_type": "markdown",
     "metadata": {},
     "source": [
      "<br>\n",
      "<br>"
     ]
    },
    {
     "cell_type": "heading",
     "level": 1,
     "metadata": {},
     "source": [
      "Simple Boxplot"
     ]
    },
    {
     "cell_type": "markdown",
     "metadata": {},
     "source": [
      "[[back to top](#Sections)]"
     ]
    },
    {
     "cell_type": "code",
     "collapsed": false,
     "input": [
      "import matplotlib.pyplot as plt\n",
      "import numpy as np\n",
      "\n",
      "all_data = [np.random.normal(0, std, 100) for std in range(1, 4)]\n",
      "\n",
      "fig = plt.figure(figsize=(8,6))\n",
      "\n",
      "plt.boxplot(all_data, \n",
      "            notch=False, # box instead of notch shape \n",
      "            sym='rs',    # red squares for outliers\n",
      "            vert=True)   # vertical box aligmnent\n",
      "\n",
      "plt.xticks([y+1 for y in range(len(all_data))], ['x1', 'x2', 'x3'])\n",
      "plt.xlabel('measurement x')\n",
      "t = plt.title('Box plot')\n",
      "plt.show()"
     ],
     "language": "python",
     "metadata": {},
     "outputs": [
      {
       "metadata": {},
       "output_type": "display_data",
       "png": "[encoded data removed]",
       "text": [
        "<matplotlib.figure.Figure at 0x10b33fa58>"
       ]
      }
     ],
     "prompt_number": 7
    },
    {
     "cell_type": "markdown",
     "metadata": {},
     "source": [
      "<br>\n",
      "<br>"
     ]
    },
    {
     "cell_type": "heading",
     "level": 1,
     "metadata": {},
     "source": [
      "Black and white Boxplot"
     ]
    },
    {
     "cell_type": "markdown",
     "metadata": {},
     "source": [
      "[[back to top](#Sections)]"
     ]
    },
    {
     "cell_type": "code",
     "collapsed": true,
     "input": [
      "import matplotlib.pyplot as plt\n",
      "import numpy as np\n",
      "\n",
      "all_data = [np.random.normal(0, std, 100) for std in range(1, 4)]\n",
      "\n",
      "fig = plt.figure(figsize=(8,6))\n",
      "\n",
      "bplot = plt.boxplot(all_data, \n",
      "            notch=False, # box instead of notch shape \n",
      "            sym='rs',    # red squares for outliers\n",
      "            vert=True)   # vertical box aligmnent\n",
      "\n",
      "plt.xticks([y+1 for y in range(len(all_data))], ['x1', 'x2', 'x3'])\n",
      "plt.xlabel('measurement x')\n",
      "\n",
      "for components in bplot.keys():\n",
      "    for line in bplot[components]:\n",
      "        line.set_color('black')     # black lines\n",
      "\n",
      "t = plt.title('Black and white box plot')\n",
      "\n",
      "plt.show()"
     ],
     "language": "python",
     "metadata": {},
     "outputs": [
      {
       "metadata": {},
       "output_type": "display_data",
       "png": "[encoded data removed]",
       "text": [
        "<matplotlib.figure.Figure at 0x108651978>"
       ]
      }
     ],
     "prompt_number": 8
    },
    {
     "cell_type": "markdown",
     "metadata": {},
     "source": [
      "<br>\n",
      "<br>"
     ]
    },
    {
     "cell_type": "heading",
     "level": 1,
     "metadata": {},
     "source": [
      "Horizontal Boxplot"
     ]
    },
    {
     "cell_type": "markdown",
     "metadata": {},
     "source": [
      "[[back to top](#Sections)]"
     ]
    },
    {
     "cell_type": "code",
     "collapsed": false,
     "input": [
      "import matplotlib.pyplot as plt\n",
      "import numpy as np\n",
      "\n",
      "all_data = [np.random.normal(0, std, 100) for std in range(1, 4)]\n",
      "\n",
      "fig = plt.figure(figsize=(8,6))\n",
      "\n",
      "plt.boxplot(all_data, \n",
      "            notch=False,  # box instead of notch shape \n",
      "            sym='rs',     # red squares for outliers\n",
      "            vert=False)   # horizontal box aligmnent\n",
      "\n",
      "plt.yticks([y+1 for y in range(len(all_data))], ['x1', 'x2', 'x3'])\n",
      "plt.ylabel('measurement x')\n",
      "t = plt.title('Horizontal Box plot')\n",
      "plt.show()"
     ],
     "language": "python",
     "metadata": {},
     "outputs": [
      {
       "metadata": {},
       "output_type": "display_data",
       "png": "[encoded data removed]",
       "text": [
        "<matplotlib.figure.Figure at 0x10b305470>"
       ]
      }
     ],
     "prompt_number": 13
    },
    {
     "cell_type": "markdown",
     "metadata": {},
     "source": [
      "<br>\n",
      "<br>"
     ]
    },
    {
     "cell_type": "heading",
     "level": 1,
     "metadata": {},
     "source": [
      "Filled and cylindrical boxplots"
     ]
    },
    {
     "cell_type": "markdown",
     "metadata": {},
     "source": [
      "[[back to top](#Sections)]"
     ]
    },
    {
     "cell_type": "code",
     "collapsed": false,
     "input": [
      "import matplotlib.pyplot as plt\n",
      "import numpy as np\n",
      "\n",
      "all_data = [np.random.normal(0, std, 100) for std in range(1, 4)]\n",
      "\n",
      "fig = plt.figure(figsize=(8,6))\n",
      "\n",
      "plt.boxplot(all_data, \n",
      "            notch=True,  # notch shape \n",
      "            sym='bs',     # blue squares for outliers\n",
      "            vert=True,   # vertical box aligmnent\n",
      "            patch_artist=True)   # fill with color\n",
      "\n",
      "plt.xticks([y+1 for y in range(len(all_data))], ['x1', 'x2', 'x3'])\n",
      "plt.xlabel('measurement x')\n",
      "t = plt.title('Box plot')\n",
      "plt.show()"
     ],
     "language": "python",
     "metadata": {},
     "outputs": [
      {
       "metadata": {},
       "output_type": "display_data",
       "png": "[encoded data removed]",
       "text": [
        "<matplotlib.figure.Figure at 0x10643a978>"
       ]
      }
     ],
     "prompt_number": 10
    },
    {
     "cell_type": "markdown",
     "metadata": {},
     "source": [
      "<br>\n",
      "<br>"
     ]
    },
    {
     "cell_type": "heading",
     "level": 1,
     "metadata": {},
     "source": [
      "Boxplots with custom fill colors"
     ]
    },
    {
     "cell_type": "markdown",
     "metadata": {},
     "source": [
      "[[back to top](#Sections)]"
     ]
    },
    {
     "cell_type": "code",
     "collapsed": false,
     "input": [
      "import matplotlib.pyplot as plt\n",
      "import numpy as np\n",
      "\n",
      "all_data = [np.random.normal(0, std, 100) for std in range(1, 4)]\n",
      "\n",
      "fig = plt.figure(figsize=(8,6))\n",
      "\n",
      "bplot = plt.boxplot(all_data, \n",
      "            notch=False,  # notch shape \n",
      "            vert=True,   # vertical box aligmnent\n",
      "            patch_artist=True)   # fill with color\n",
      "\n",
      "colors = ['pink', 'lightblue', 'lightgreen']\n",
      "for patch, color in zip(bplot['boxes'], colors):\n",
      "    patch.set_facecolor(color)\n",
      "\n",
      "plt.xticks([y+1 for y in range(len(all_data))], ['x1', 'x2', 'x3'])\n",
      "plt.xlabel('measurement x')\n",
      "t = plt.title('Box plot')\n",
      "plt.show()"
     ],
     "language": "python",
     "metadata": {},
     "outputs": [
      {
       "metadata": {},
       "output_type": "display_data",
       "png": "[encoded data removed]",
       "text": [
        "<matplotlib.figure.Figure at 0x106adc0b8>"
       ]
      }
     ],
     "prompt_number": 31
    },
    {
     "cell_type": "markdown",
     "metadata": {},
     "source": [
      "<br>\n",
      "<br>"
     ]
    },
    {
     "cell_type": "heading",
     "level": 1,
     "metadata": {},
     "source": [
      "All options and parameters"
     ]
    },
    {
     "cell_type": "markdown",
     "metadata": {},
     "source": [
      "[[back to top](#Sections)]"
     ]
    },
    {
     "cell_type": "code",
     "collapsed": false,
     "input": [
      "plt.boxplot?"
     ],
     "language": "python",
     "metadata": {},
     "outputs": [],
     "prompt_number": 6
    },
    {
     "cell_type": "markdown",
     "metadata": {},
     "source": [
      "<pre>Type:        function\n",
      "String form: <function boxplot at 0x1062a6bf8>\n",
      "File:        /Users/sebastian/miniconda3/envs/py34/lib/python3.4/site-packages/matplotlib/pyplot.py\n",
      "Definition:  plt.boxplot(x, notch=False, sym='b+', vert=True, whis=1.5, positions=None, widths=None, patch_artist=False, bootstrap=None, usermedians=None, conf_intervals=None, hold=None)\n",
      "Docstring:\n",
      "Make a box and whisker plot.\n",
      "\n",
      "Call signature::\n",
      "\n",
      "  boxplot(x, notch=False, sym='+', vert=True, whis=1.5,\n",
      "          positions=None, widths=None, patch_artist=False,\n",
      "          bootstrap=None, usermedians=None, conf_intervals=None)\n",
      "\n",
      "Make a box and whisker plot for each column of *x* or each\n",
      "vector in sequence *x*.  The box extends from the lower to\n",
      "upper quartile values of the data, with a line at the median.\n",
      "The whiskers extend from the box to show the range of the\n",
      "data.  Flier points are those past the end of the whiskers.\n",
      "\n",
      "Function Arguments:\n",
      "\n",
      "  *x* :\n",
      "    Array or a sequence of vectors.\n",
      "\n",
      "  *notch* : [ False (default) | True ]\n",
      "    If False (default), produces a rectangular box plot.\n",
      "    If True, will produce a notched box plot\n",
      "\n",
      "  *sym* : [ default 'b+' ]\n",
      "    The default symbol for flier points.\n",
      "    Enter an empty string ('') if you don't want to show fliers.\n",
      "\n",
      "  *vert* : [ False | True (default) ]\n",
      "    If True (default), makes the boxes vertical.\n",
      "    If False, makes horizontal boxes.\n",
      "\n",
      "  *whis* : [ default 1.5 ]\n",
      "    Defines the length of the whiskers as a function of the inner\n",
      "    quartile range.  They extend to the most extreme data point\n",
      "    within ( ``whis*(75%-25%)`` ) data range.\n",
      "\n",
      "  *bootstrap* : [ *None* (default) | integer ]\n",
      "    Specifies whether to bootstrap the confidence intervals\n",
      "    around the median for notched boxplots. If bootstrap==None,\n",
      "    no bootstrapping is performed, and notches are calculated\n",
      "    using a Gaussian-based asymptotic approximation  (see McGill, R.,\n",
      "    Tukey, J.W., and Larsen, W.A., 1978, and Kendall and Stuart,\n",
      "    1967). Otherwise, bootstrap specifies the number of times to\n",
      "    bootstrap the median to determine it's 95% confidence intervals.\n",
      "    Values between 1000 and 10000 are recommended.\n",
      "\n",
      "  *usermedians* : [ default None ]\n",
      "    An array or sequence whose first dimension (or length) is\n",
      "    compatible with *x*. This overrides the medians computed by\n",
      "    matplotlib for each element of *usermedians* that is not None.\n",
      "    When an element of *usermedians* == None, the median will be\n",
      "    computed directly as normal.\n",
      "\n",
      "  *conf_intervals* : [ default None ]\n",
      "    Array or sequence whose first dimension (or length) is compatible\n",
      "    with *x* and whose second dimension is 2. When the current element\n",
      "    of *conf_intervals* is not None, the notch locations computed by\n",
      "    matplotlib are overridden (assuming notch is True). When an\n",
      "    element of *conf_intervals* is None, boxplot compute notches the\n",
      "    method specified by the other kwargs (e.g., *bootstrap*).\n",
      "\n",
      "  *positions* : [ default 1,2,...,n ]\n",
      "    Sets the horizontal positions of the boxes. The ticks and limits\n",
      "    are automatically set to match the positions.\n",
      "\n",
      "  *widths* : [ default 0.5 ]\n",
      "    Either a scalar or a vector and sets the width of each box. The\n",
      "    default is 0.5, or ``0.15*(distance between extreme positions)``\n",
      "    if that is smaller.\n",
      "\n",
      "  *patch_artist* : [ False (default) | True ]\n",
      "    If False produces boxes with the Line2D artist\n",
      "    If True produces boxes with the Patch artist\n",
      "\n",
      "Returns a dictionary mapping each component of the boxplot\n",
      "to a list of the :class:`matplotlib.lines.Line2D`\n",
      "instances created. That dictionary has the following keys\n",
      "(assuming vertical boxplots):\n",
      "\n",
      "    - boxes: the main body of the boxplot showing the quartiles\n",
      "      and the median's confidence intervals if enabled.\n",
      "    - medians: horizonal lines at the median of each box.\n",
      "    - whiskers: the vertical lines extending to the most extreme,\n",
      "      n-outlier data points.\n",
      "    - caps: the horizontal lines at the ends of the whiskers.\n",
      "    - fliers: points representing data that extend beyone the\n",
      "      whiskers (outliers).\n",
      "\n",
      "**Example:**\n",
      "\n",
      ".. plot:: pyplots/boxplot_demo.py\n",
      "\n",
      "Additional kwargs: hold = [True|False] overrides default hold state</pre>"
     ]
    }
   ],
   "metadata": {}
  }
 ]
}