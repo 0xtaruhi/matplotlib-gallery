{
 "metadata": {
  "name": "",
  "signature": "sha256:f160df4f086de064ff16b0b6f8a515f76473b0e3eccef4bee17eb2907e2098b0"
 },
 "nbformat": 3,
 "nbformat_minor": 0,
 "worksheets": [
  {
   "cells": [
    {
     "cell_type": "markdown",
     "metadata": {},
     "source": [
      "[Sebastian Raschka](http://www.sebastianraschka.com)\n",
      "\n",
      "[back](https://github.com/rasbt/matplotlib-gallery) to the `matplotlib-gallery` at [https://github.com/rasbt/matplotlib-gallery](https://github.com/rasbt/matplotlib-gallery)"
     ]
    },
    {
     "cell_type": "code",
     "collapsed": false,
     "input": [
      "%load_ext watermark"
     ],
     "language": "python",
     "metadata": {},
     "outputs": [],
     "prompt_number": 1
    },
    {
     "cell_type": "code",
     "collapsed": false,
     "input": [
      "%watermark -u -v -d -p matplotlib,numpy,scipy"
     ],
     "language": "python",
     "metadata": {},
     "outputs": [
      {
       "output_type": "stream",
       "stream": "stdout",
       "text": [
        "Last updated: 16/08/2014 \n",
        "\n",
        "CPython 3.4.1\n",
        "IPython 2.0.0\n",
        "\n",
        "matplotlib 1.3.1\n",
        "numpy 1.8.2\n",
        "scipy 0.14.0\n"
       ]
      }
     ],
     "prompt_number": 2
    },
    {
     "cell_type": "markdown",
     "metadata": {},
     "source": [
      "<font size=\"1.5em\">[More info](http://nbviewer.ipython.org/github/rasbt/watermark) about the `%watermark` extension</font>"
     ]
    },
    {
     "cell_type": "code",
     "collapsed": false,
     "input": [
      "%matplotlib inline"
     ],
     "language": "python",
     "metadata": {},
     "outputs": [],
     "prompt_number": 3
    },
    {
     "cell_type": "markdown",
     "metadata": {},
     "source": [
      "<br>"
     ]
    },
    {
     "cell_type": "heading",
     "level": 1,
     "metadata": {},
     "source": [
      "Preparing Plots for Publication"
     ]
    },
    {
     "cell_type": "markdown",
     "metadata": {},
     "source": [
      "Sometimes, we are not quite happy with matplotlib's default designs. Here are a few suggestions to adjust matplotlib's default plots so that they are more pleasing in the viewer's eye.  \n",
      "\n",
      "In this section, I will re-use certain settings for different types of plots, but if you'd like to change the settings globally (for the active session or even in the matplotlib settings) please see the section [Applying customization and settings globally](http://nbviewer.ipython.org/github/rasbt/matplotlib-gallery/blob/master/ipynb/formatting.ipynb#Applying-customization-and-settings-globally)."
     ]
    },
    {
     "cell_type": "heading",
     "level": 1,
     "metadata": {},
     "source": [
      "Sections"
     ]
    },
    {
     "cell_type": "markdown",
     "metadata": {},
     "source": [
      "- [Errorbar Plots](#Errorbar-Plots)\n",
      "- [Boxplots](#Boxplots)\n",
      "- [Barplots](#Barplots)\n",
      "- [Histograms](#Histograms)\n",
      "- [Pie charts](#Pie-charts)"
     ]
    },
    {
     "cell_type": "markdown",
     "metadata": {},
     "source": [
      "<br>\n",
      "<br>"
     ]
    },
    {
     "cell_type": "heading",
     "level": 1,
     "metadata": {},
     "source": [
      "Errorbar Plots"
     ]
    },
    {
     "cell_type": "markdown",
     "metadata": {},
     "source": [
      "[[back to top](#Sections)]"
     ]
    },
    {
     "cell_type": "markdown",
     "metadata": {},
     "source": [
      "<br>\n",
      "<br>"
     ]
    },
    {
     "cell_type": "heading",
     "level": 3,
     "metadata": {},
     "source": [
      "Default Errorbar Plot"
     ]
    },
    {
     "cell_type": "code",
     "collapsed": false,
     "input": [
      "import matplotlib.pyplot as plt\n",
      "\n",
      "def errorbar_default():\n",
      "\n",
      "    # Data\n",
      "    data = [1, 1.5, 1.2]\n",
      "    std_devs = [0.15, 0.25, 0.12]\n",
      "\n",
      "    # X axis positions\n",
      "    x_pos = range(len(data))\n",
      "\n",
      "    for d, std, x in zip(data, std_devs, x_pos):\n",
      "        plt.errorbar(x=x, y=d, yerr=std, fmt='o')\n",
      "\n",
      "    # setting axis limits   \n",
      "    plt.xlim([min(x_pos)-1, max(x_pos)+1])    \n",
      "    plt.ylim([min(data)*0.7, max(data)*1.3])  \n",
      "\n",
      "    # setting labels and titles   \n",
      "    plt.ylabel('x label')\n",
      "    plt.title('Matplotlib default')\n",
      "\n",
      "    plt.legend(['X1', 'X2', 'X3'], loc='upper right')\n",
      "\n",
      "    plt.show()"
     ],
     "language": "python",
     "metadata": {},
     "outputs": [],
     "prompt_number": 4
    },
    {
     "cell_type": "heading",
     "level": 3,
     "metadata": {},
     "source": [
      "Modified Errorbar Plot"
     ]
    },
    {
     "cell_type": "code",
     "collapsed": false,
     "input": [
      "import numpy as np\n",
      "def errorbar_modified():\n",
      "\n",
      "    # Data\n",
      "    data = [1, 1.5, 1.2]\n",
      "    std_devs = [0.15, 0.25, 0.12]\n",
      "\n",
      "    # X axis positions\n",
      "    x_pos = range(len(data))\n",
      "\n",
      "    colors = ['lightblue', 'pink', 'lightgreen']\n",
      "\n",
      "    fig = plt.gca()\n",
      "    ax = plt.subplot(111)  \n",
      "\n",
      "    # draw plots\n",
      "    for d, std, col, x in zip(data, std_devs, colors, x_pos):\n",
      "        plt.errorbar(x=x, y=d, yerr=std, fmt='o', color=col, ecolor='black')\n",
      "    \n",
      "    # setting axis limits    \n",
      "    plt.xlim([min(x_pos)-1, max(x_pos)+1])    \n",
      "    plt.ylim([min(data)*0.7, max(data)*1.3])  \n",
      "    \n",
      "    # setting labels and titles    \n",
      "    plt.ylabel('x label')\n",
      "    plt.text(1, 2, 'Modified',\n",
      "         horizontalalignment='center',\n",
      "         fontsize=14)\n",
      "\n",
      "    # remove axis spines\n",
      "    ax.spines[\"top\"].set_visible(False)  \n",
      "    ax.spines[\"right\"].set_visible(False) \n",
      "    ax.spines[\"bottom\"].set_visible(False) \n",
      "    ax.spines[\"left\"].set_visible(False)\n",
      "\n",
      "    # hiding axis ticks\n",
      "    plt.tick_params(axis=\"both\", which=\"both\", bottom=\"off\", top=\"off\",  \n",
      "                labelbottom=\"off\", left=\"off\", right=\"off\", labelleft=\"on\")\n",
      "\n",
      "    # adding custom horizontal grid lines \n",
      "    for y in np.arange(min(data)*0.7, max(data)*1.3, 0.2)+0.1:  \n",
      "        plt.axhline(y=y, xmin=0, xmax=4, color=\"gray\", linestyle=\"--\", alpha=0.4) \n",
      "\n",
      "    plt.legend(['X1', 'X2', 'X3'], loc='upper right', fancybox=True, numpoints=1)\n",
      "    \n",
      "    plt.tight_layout()\n",
      "    plt.show()"
     ],
     "language": "python",
     "metadata": {},
     "outputs": [],
     "prompt_number": 13
    },
    {
     "cell_type": "code",
     "collapsed": false,
     "input": [
      "errorbar_default()"
     ],
     "language": "python",
     "metadata": {},
     "outputs": [
      {
       "metadata": {},
       "output_type": "display_data",
       "png": "[encoded data removed]",
       "text": [
        "<matplotlib.figure.Figure at 0x106565160>"
       ]
      }
     ],
     "prompt_number": 14
    },
    {
     "cell_type": "markdown",
     "metadata": {},
     "source": [
      "<hr>"
     ]
    },
    {
     "cell_type": "code",
     "collapsed": false,
     "input": [
      "errorbar_modified()"
     ],
     "language": "python",
     "metadata": {},
     "outputs": [
      {
       "metadata": {},
       "output_type": "display_data",
       "png": "[encoded data removed]",
       "text": [
        "<matplotlib.figure.Figure at 0x106555128>"
       ]
      }
     ],
     "prompt_number": 15
    },
    {
     "cell_type": "markdown",
     "metadata": {},
     "source": [
      "<br>\n",
      "<br>"
     ]
    },
    {
     "cell_type": "heading",
     "level": 1,
     "metadata": {},
     "source": [
      "Boxplots"
     ]
    },
    {
     "cell_type": "markdown",
     "metadata": {},
     "source": [
      "[[back to top](#Sections)]"
     ]
    },
    {
     "cell_type": "code",
     "collapsed": false,
     "input": [
      "data = [np.random.normal(0, std, 50) for std in range(1, 4)]"
     ],
     "language": "python",
     "metadata": {},
     "outputs": [],
     "prompt_number": 16
    },
    {
     "cell_type": "heading",
     "level": 3,
     "metadata": {},
     "source": [
      "Default Boxplot"
     ]
    },
    {
     "cell_type": "code",
     "collapsed": false,
     "input": [
      "import matplotlib.pyplot as plt\n",
      "import numpy as np\n",
      "\n",
      "def boxplot_default():\n",
      "\n",
      "    fig = plt.figure(figsize=(8,6))\n",
      "\n",
      "    plt.boxplot(data, \n",
      "            notch=False, # box instead of notch shape \n",
      "            sym='rs',    # red squares for outliers\n",
      "            vert=True)   # vertical box aligmnent\n",
      "\n",
      "    plt.xticks([y+1 for y in range(len(data))], ['x1', 'x2', 'x3'])\n",
      "    plt.title('Matplotlib default')\n",
      "    plt.show()"
     ],
     "language": "python",
     "metadata": {},
     "outputs": [],
     "prompt_number": 17
    },
    {
     "cell_type": "heading",
     "level": 3,
     "metadata": {},
     "source": [
      "Modified Boxplot"
     ]
    },
    {
     "cell_type": "code",
     "collapsed": false,
     "input": [
      "def boxplot_modified():\n",
      "    \n",
      "    fig = plt.figure(figsize=(8,6))\n",
      "    ax = plt.subplot(111) \n",
      "\n",
      "    bplot = plt.boxplot(data, \n",
      "            notch=True,          # notch shape \n",
      "            vert=True,           # vertical box aligmnent\n",
      "            sym='ko',            # red circle for outliers\n",
      "            patch_artist=True,   # fill with color\n",
      "            )   \n",
      "\n",
      "    # choosing custom colors to fill the boxes\n",
      "    colors = ['pink', 'lightblue', 'lightgreen']\n",
      "    for patch, color in zip(bplot['boxes'], colors):\n",
      "        patch.set_facecolor(color)\n",
      "\n",
      "    # modifying the whiskers: straight lines, black, wider\n",
      "    for whisker in bplot['whiskers']:\n",
      "        whisker.set(color='black', linewidth=1.2, linestyle='-')    \n",
      "    \n",
      "    # making the caps a little bit wider \n",
      "    for cap in bplot['caps']:\n",
      "        cap.set(linewidth=1.2)\n",
      "    \n",
      "    # hiding axis ticks\n",
      "    plt.tick_params(axis=\"both\", which=\"both\", bottom=\"off\", top=\"off\",  \n",
      "            labelbottom=\"on\", left=\"off\", right=\"off\", labelleft=\"on\")\n",
      "\n",
      "    # adding custom horizontal grid lines \n",
      "    for y in np.arange(-8, 8, 2):  \n",
      "        plt.axhline(y=y, xmin=0, xmax=4, color=\"gray\", linestyle=\"--\", alpha=0.4)  \n",
      "    \n",
      "    # remove axis spines\n",
      "        ax.spines[\"top\"].set_visible(False)  \n",
      "        ax.spines[\"right\"].set_visible(False) \n",
      "        ax.spines[\"bottom\"].set_visible(False) \n",
      "        ax.spines[\"left\"].set_visible(False)\n",
      "\n",
      "    plt.xticks([y+1 for y in range(len(data))], ['x1', 'x2', 'x3'])\n",
      "\n",
      "    # raised title\n",
      "    plt.text(2, 9, 'Modified',\n",
      "         horizontalalignment='center',\n",
      "         fontsize=18)\n",
      "\n",
      "    plt.tight_layout()\n",
      "    plt.show()"
     ],
     "language": "python",
     "metadata": {},
     "outputs": [],
     "prompt_number": 26
    },
    {
     "cell_type": "code",
     "collapsed": false,
     "input": [
      "boxplot_default()"
     ],
     "language": "python",
     "metadata": {},
     "outputs": [
      {
       "metadata": {},
       "output_type": "display_data",
       "png": "[encoded data removed]",
       "text": [
        "<matplotlib.figure.Figure at 0x1063d0ba8>"
       ]
      }
     ],
     "prompt_number": 27
    },
    {
     "cell_type": "markdown",
     "metadata": {},
     "source": [
      "<hr>"
     ]
    },
    {
     "cell_type": "code",
     "collapsed": false,
     "input": [
      "boxplot_modified()"
     ],
     "language": "python",
     "metadata": {},
     "outputs": [
      {
       "metadata": {},
       "output_type": "display_data",
       "png": "[encoded data removed]",
       "text": [
        "<matplotlib.figure.Figure at 0x106542128>"
       ]
      }
     ],
     "prompt_number": 28
    },
    {
     "cell_type": "markdown",
     "metadata": {},
     "source": [
      "<br>\n",
      "<br>"
     ]
    },
    {
     "cell_type": "heading",
     "level": 1,
     "metadata": {},
     "source": [
      "Barplots"
     ]
    },
    {
     "cell_type": "markdown",
     "metadata": {},
     "source": [
      "<br>\n",
      "<br>"
     ]
    },
    {
     "cell_type": "markdown",
     "metadata": {},
     "source": [
      "[[back to top](#Sections)]"
     ]
    },
    {
     "cell_type": "heading",
     "level": 3,
     "metadata": {},
     "source": [
      "Default Barplot"
     ]
    },
    {
     "cell_type": "code",
     "collapsed": false,
     "input": [
      "import matplotlib.pyplot as plt\n",
      "\n",
      "def barplot_default():   \n",
      "\n",
      "    # input data\n",
      "    mean_values = [1, 2, 3]\n",
      "    variance = [0.2, 0.4, 0.5]\n",
      "    bar_labels = ['bar 1', 'bar 2', 'bar 3']\n",
      "\n",
      "    fig = plt.figure(figsize=(6,4))\n",
      "\n",
      "    # plot bars\n",
      "    x_pos = list(range(len(bar_labels)))\n",
      "    plt.bar(x_pos, mean_values, yerr=variance, align='center')\n",
      "\n",
      "\n",
      "    # set axes labels and title\n",
      "    plt.ylabel('variable y')\n",
      "    plt.xticks(x_pos, bar_labels)\n",
      "    plt.title('Matplotlib default')\n",
      "\n",
      "    plt.show()\n"
     ],
     "language": "python",
     "metadata": {},
     "outputs": [],
     "prompt_number": 29
    },
    {
     "cell_type": "heading",
     "level": 3,
     "metadata": {},
     "source": [
      "Modified Barplot"
     ]
    },
    {
     "cell_type": "code",
     "collapsed": false,
     "input": [
      "import matplotlib.pyplot as plt\n",
      "\n",
      "def barplot_modified():\n",
      "\n",
      "    # input data\n",
      "    mean_values = [1, 2, 3]\n",
      "    variance = [0.2, 0.4, 0.5]\n",
      "    bar_labels = ['bar 1', 'bar 2', 'bar 3']\n",
      "\n",
      "    fig = plt.figure(figsize=(6,4))\n",
      "    ax = plt.subplot(111) \n",
      "    \n",
      "    # plot bars\n",
      "    x_pos = list(range(len(bar_labels)))\n",
      "    plt.bar(x_pos, mean_values, yerr=variance, \n",
      "            ecolor='black', # black error bar color\n",
      "            alpha=0.5,      # transparency\n",
      "            width=0.5,      # smaller bar width\n",
      "            align='center')\n",
      "\n",
      "    # set height of the y-axis\n",
      "    max_y = max(zip(mean_values, variance)) # returns a tuple, here: (3, 5)\n",
      "    plt.ylim([0, (max_y[0] + max_y[1]) * 1.1])\n",
      "\n",
      "    # hiding axis ticks\n",
      "    plt.tick_params(axis=\"both\", which=\"both\", bottom=\"off\", top=\"off\",  \n",
      "            labelbottom=\"on\", left=\"off\", right=\"off\", labelleft=\"on\")\n",
      "\n",
      "    # adding custom horizontal grid lines \n",
      "    for y in np.arange(0, 4, 1):  \n",
      "        plt.axhline(y=y, xmin=0, xmax=4, color=\"gray\", linestyle=\"--\", alpha=0.4)  \n",
      "    \n",
      "    # remove axis spines\n",
      "        ax.spines[\"top\"].set_visible(False)  \n",
      "        ax.spines[\"right\"].set_visible(False) \n",
      "        ax.spines[\"bottom\"].set_visible(False) \n",
      "        ax.spines[\"left\"].set_visible(False)\n",
      "\n",
      "    # set axes labels and title\n",
      "    plt.ylabel('variable y')\n",
      "    plt.xticks(x_pos, bar_labels)\n",
      "    \n",
      "    plt.text(1, 4, 'Modified',\n",
      "         horizontalalignment='center',\n",
      "         fontsize=18)\n",
      "\n",
      "    \n",
      "    \n",
      "    plt.tight_layout()\n",
      "    plt.show()\n"
     ],
     "language": "python",
     "metadata": {},
     "outputs": [],
     "prompt_number": 33
    },
    {
     "cell_type": "code",
     "collapsed": false,
     "input": [
      "barplot_default()"
     ],
     "language": "python",
     "metadata": {},
     "outputs": [
      {
       "metadata": {},
       "output_type": "display_data",
       "png": "[encoded data removed]",
       "text": [
        "<matplotlib.figure.Figure at 0x1065185c0>"
       ]
      }
     ],
     "prompt_number": 34
    },
    {
     "cell_type": "markdown",
     "metadata": {},
     "source": [
      "<hr>"
     ]
    },
    {
     "cell_type": "code",
     "collapsed": false,
     "input": [
      "barplot_modified()"
     ],
     "language": "python",
     "metadata": {},
     "outputs": [
      {
       "metadata": {},
       "output_type": "display_data",
       "png": "[encoded data removed]",
       "text": [
        "<matplotlib.figure.Figure at 0x1064ca1d0>"
       ]
      }
     ],
     "prompt_number": 35
    },
    {
     "cell_type": "markdown",
     "metadata": {},
     "source": [
      "<br>\n",
      "<br>"
     ]
    },
    {
     "cell_type": "heading",
     "level": 1,
     "metadata": {},
     "source": [
      "Histograms"
     ]
    },
    {
     "cell_type": "markdown",
     "metadata": {},
     "source": [
      "[[back to top](#Sections)]"
     ]
    },
    {
     "cell_type": "code",
     "collapsed": false,
     "input": [
      "import numpy as np\n",
      "import random\n",
      "from matplotlib import pyplot as plt\n",
      "\n",
      "data1 = [random.gauss(15,10) for i in range(500)]  \n",
      "data2 = [random.gauss(5,5) for i in range(500)]  "
     ],
     "language": "python",
     "metadata": {},
     "outputs": [],
     "prompt_number": 36
    },
    {
     "cell_type": "heading",
     "level": 3,
     "metadata": {},
     "source": [
      "Default Histogram"
     ]
    },
    {
     "cell_type": "code",
     "collapsed": false,
     "input": [
      "def histogram_default():\n",
      "\n",
      "    fig = plt.figure(figsize=(8,6))\n",
      "    \n",
      "    bins = np.arange(-60, 60, 2.5)\n",
      "\n",
      "    # plot histograms\n",
      "    plt.hist(data1, bins=bins, label='class 1')\n",
      "    plt.hist(data2, bins=bins, label='class 2')\n",
      "    \n",
      "    # labels\n",
      "    plt.title('Matplotlib default')\n",
      "    plt.xlabel('variable X')\n",
      "    plt.ylabel('count')\n",
      "    plt.legend(loc='upper right')\n",
      "\n",
      "    plt.show()"
     ],
     "language": "python",
     "metadata": {},
     "outputs": [],
     "prompt_number": 37
    },
    {
     "cell_type": "heading",
     "level": 3,
     "metadata": {},
     "source": [
      "Modified Histogram"
     ]
    },
    {
     "cell_type": "code",
     "collapsed": false,
     "input": [
      "def histogram_modified():\n",
      "\n",
      "    bins = np.arange(-60, 60, 2.5)\n",
      "    \n",
      "    fig = plt.figure(figsize=(8,6))\n",
      "    ax = plt.subplot(111) \n",
      "    \n",
      "    # plot histograms\n",
      "    plt.hist(data1, bins=bins, \n",
      "             alpha=0.3,        # transparency\n",
      "             label='class 1')\n",
      "    plt.hist(data2, bins=bins, \n",
      "             alpha=0.3,        # transparency\n",
      "             label='class 2')\n",
      "    \n",
      "    # axis formatting\n",
      "    plt.ylim([0, 110])\n",
      "    plt.xlim([min(data1+data2)-5, max(data1+data2)+5])\n",
      "\n",
      "    # hiding axis ticks\n",
      "    plt.tick_params(axis=\"both\", which=\"both\", bottom=\"off\", top=\"off\",  \n",
      "            labelbottom=\"on\", left=\"off\", right=\"off\", labelleft=\"on\")\n",
      "\n",
      "    # adding custom horizontal grid lines \n",
      "    for y in np.arange(0, 110, 20):  \n",
      "        plt.axhline(y=y, xmin=min(data1+data2)-10, \n",
      "                    xmax=max(data1+data2)+10, \n",
      "                    color=\"gray\", linestyle=\"--\", alpha=0.4)  \n",
      "    \n",
      "    # remove axis spines\n",
      "        ax.spines[\"top\"].set_visible(False)  \n",
      "        ax.spines[\"right\"].set_visible(False) \n",
      "        ax.spines[\"bottom\"].set_visible(False) \n",
      "        ax.spines[\"left\"].set_visible(False)    \n",
      "    \n",
      "    # labels    \n",
      "    plt.xlabel('variable X')\n",
      "    plt.ylabel('count')\n",
      "    plt.legend(loc='upper right', fancybox=True)\n",
      "\n",
      "    # raised title\n",
      "    plt.text(15, 120, 'Modified',\n",
      "         horizontalalignment='center',\n",
      "         fontsize=18)    \n",
      "    \n",
      "    plt.show()"
     ],
     "language": "python",
     "metadata": {},
     "outputs": [],
     "prompt_number": 46
    },
    {
     "cell_type": "code",
     "collapsed": false,
     "input": [
      "histogram_default()"
     ],
     "language": "python",
     "metadata": {},
     "outputs": [
      {
       "metadata": {},
       "output_type": "display_data",
       "png": "[encoded data removed]",
       "text": [
        "<matplotlib.figure.Figure at 0x106503908>"
       ]
      }
     ],
     "prompt_number": 47
    },
    {
     "cell_type": "markdown",
     "metadata": {},
     "source": [
      "<hr>"
     ]
    },
    {
     "cell_type": "code",
     "collapsed": false,
     "input": [
      "histogram_modified()"
     ],
     "language": "python",
     "metadata": {},
     "outputs": [
      {
       "metadata": {},
       "output_type": "display_data",
       "png": "[encoded data removed]",
       "text": [
        "<matplotlib.figure.Figure at 0x10682a240>"
       ]
      }
     ],
     "prompt_number": 48
    },
    {
     "cell_type": "markdown",
     "metadata": {},
     "source": [
      "<br>\n",
      "<br>"
     ]
    },
    {
     "cell_type": "heading",
     "level": 1,
     "metadata": {},
     "source": [
      "Pie charts"
     ]
    },
    {
     "cell_type": "markdown",
     "metadata": {},
     "source": [
      "[[back to top](#Sections)]"
     ]
    },
    {
     "cell_type": "heading",
     "level": 3,
     "metadata": {},
     "source": [
      "Default pie chart"
     ]
    },
    {
     "cell_type": "code",
     "collapsed": false,
     "input": [
      "from matplotlib import pyplot as plt\n",
      "import numpy as np\n",
      "\n",
      "def piechart_default():\n",
      "\n",
      "    plt.pie(\n",
      "        (10,5),\n",
      "        labels=('spam','ham'))\n",
      "    plt.legend()\n",
      "    plt.title('Matplotlib default')\n",
      "    plt.show()"
     ],
     "language": "python",
     "metadata": {},
     "outputs": [],
     "prompt_number": 8
    },
    {
     "cell_type": "heading",
     "level": 3,
     "metadata": {},
     "source": [
      "Modified pie chart"
     ]
    },
    {
     "cell_type": "code",
     "collapsed": false,
     "input": [
      "def piechart_modified():\n",
      "\n",
      "    plt.pie(\n",
      "        (10,5),\n",
      "        labels=('spam','ham'),\n",
      "        shadow=True,\n",
      "        colors=('lightskyblue', 'yellowgreen'),\n",
      "        explode=(0,0.15), # space between slices \n",
      "        startangle=90,    # rotate conter-clockwise by 90 degrees\n",
      "        autopct='%1.1f%%',# display fraction as percentage\n",
      "        )\n",
      "    plt.legend(fancybox=True)\n",
      "    plt.axis('equal')     # plot pyplot as circle\n",
      "    plt.tight_layout()\n",
      "    plt.title('Modified')\n",
      "    plt.show()"
     ],
     "language": "python",
     "metadata": {},
     "outputs": [],
     "prompt_number": 9
    },
    {
     "cell_type": "code",
     "collapsed": false,
     "input": [
      "piechart_default()"
     ],
     "language": "python",
     "metadata": {},
     "outputs": [
      {
       "metadata": {},
       "output_type": "display_data",
       "png": "[encoded data removed]",
       "text": [
        "<matplotlib.figure.Figure at 0x10652fc50>"
       ]
      }
     ],
     "prompt_number": 10
    },
    {
     "cell_type": "code",
     "collapsed": false,
     "input": [
      "piechart_modified()"
     ],
     "language": "python",
     "metadata": {},
     "outputs": [
      {
       "metadata": {},
       "output_type": "display_data",
       "png": "[encoded data removed]",
       "text": [
        "<matplotlib.figure.Figure at 0x106578e10>"
       ]
      }
     ],
     "prompt_number": 11
    }
   ],
   "metadata": {}
  }
 ]
}