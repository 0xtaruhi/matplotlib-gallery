{
 "metadata": {
  "name": "",
  "signature": "sha256:7f1a996045af029df3db031899283ba9a020b9f1308058c9191ba02b243e9e95"
 },
 "nbformat": 3,
 "nbformat_minor": 0,
 "worksheets": [
  {
   "cells": [
    {
     "cell_type": "markdown",
     "metadata": {},
     "source": [
      "[Sebastian Raschka](http://www.sebastianraschka.com)"
     ]
    },
    {
     "cell_type": "code",
     "collapsed": false,
     "input": [
      "import time\n",
      "print('Last updated:', time.strftime('%m/%d/%Y'))"
     ],
     "language": "python",
     "metadata": {},
     "outputs": [
      {
       "output_type": "stream",
       "stream": "stdout",
       "text": [
        "Last updated: 06/17/2014\n"
       ]
      }
     ],
     "prompt_number": 1
    },
    {
     "cell_type": "code",
     "collapsed": false,
     "input": [
      "%matplotlib inline"
     ],
     "language": "python",
     "metadata": {},
     "outputs": [],
     "prompt_number": 2
    },
    {
     "cell_type": "markdown",
     "metadata": {},
     "source": [
      "<br>\n",
      "<br>"
     ]
    },
    {
     "cell_type": "heading",
     "level": 1,
     "metadata": {},
     "source": [
      "Sections"
     ]
    },
    {
     "cell_type": "markdown",
     "metadata": {},
     "source": [
      "- [Bar plot with error bars](#Bar-plot-with-error-bars)\n",
      "- [Horizontal bar plot with error bars](#Horizontal-bar-plot-with-error-bars)\n",
      "- [Grouped bar plot](#Grouped-bar-plot)\n",
      "- [Stacked bar plot](#Stacked-bar-plot)"
     ]
    },
    {
     "cell_type": "markdown",
     "metadata": {},
     "source": [
      "<br>\n",
      "<br>"
     ]
    },
    {
     "cell_type": "heading",
     "level": 1,
     "metadata": {},
     "source": [
      "Bar plot with error bars"
     ]
    },
    {
     "cell_type": "markdown",
     "metadata": {},
     "source": [
      "[[back to top](#Sections)]"
     ]
    },
    {
     "cell_type": "code",
     "collapsed": false,
     "input": [
      "import matplotlib.pyplot as plt\n",
      "\n",
      "# input data\n",
      "mean_values = [1, 2, 3]\n",
      "variance = [0.2, 0.4, 0.5]\n",
      "bar_labels = ['bar 1', 'bar 2', 'bar 3']\n",
      "\n",
      "# plot bars\n",
      "x_pos = list(range(len(bar_labels)))\n",
      "plt.bar(x_pos, mean_values, yerr=variance, align='center', alpha=0.5)\n",
      "\n",
      "plt.grid()\n",
      "\n",
      "# set height of the y-axis\n",
      "max_y = max(zip(mean_values, variance)) # returns a tuple, here: (3, 5)\n",
      "plt.ylim([0, (max_y[0] + max_y[1]) * 1.1])\n",
      "\n",
      "# set axes labels and title\n",
      "plt.ylabel('variable y')\n",
      "plt.xticks(x_pos, bar_labels)\n",
      "plt.title('Bar plot with error bars')\n",
      "\n",
      "plt.show()\n",
      "#plt.savefig('./my_plot.png')"
     ],
     "language": "python",
     "metadata": {},
     "outputs": [
      {
       "metadata": {},
       "output_type": "display_data",
       "png": "[encoded data removed]",
       "text": [
        "<matplotlib.figure.Figure at 0x10544cd50>"
       ]
      }
     ],
     "prompt_number": 6
    },
    {
     "cell_type": "markdown",
     "metadata": {},
     "source": [
      "<br>\n",
      "<br>"
     ]
    },
    {
     "cell_type": "heading",
     "level": 1,
     "metadata": {},
     "source": [
      "Horizontal bar plot with error bars"
     ]
    },
    {
     "cell_type": "markdown",
     "metadata": {},
     "source": [
      "[[back to top](#Sections)]"
     ]
    },
    {
     "cell_type": "code",
     "collapsed": false,
     "input": [
      "from matplotlib import pyplot as plt\n",
      "import numpy as np\n",
      "\n",
      "# input data\n",
      "mean_values = [1, 2, 3]\n",
      "std_dev = [0.2, 0.4, 0.5]\n",
      "bar_labels = ['bar 1', 'bar 2', 'bar 3']\n",
      "\n",
      "fig = plt.figure(figsize=(8,6))\n",
      "\n",
      "# plot bars\n",
      "y_pos = np.arange(len(mean_values))\n",
      "y_pos = [x for x in y_pos]\n",
      "plt.yticks(y_pos, bar_labels, fontsize=10)\n",
      "plt.barh(y_pos, mean_values, xerr=std_dev, \n",
      "         align='center', alpha=0.4, color='g')\n",
      "\n",
      "# annotation and labels\n",
      "plt.xlabel('measurement x')\n",
      "t = plt.title('Bar plot with standard deviation')\n",
      "plt.ylim([-1,len(mean_values)+0.5])\n",
      "plt.xlim([0, 4])\n",
      "plt.grid()\n",
      "\n",
      "plt.show()"
     ],
     "language": "python",
     "metadata": {},
     "outputs": [
      {
       "metadata": {},
       "output_type": "display_data",
       "png": "[encoded data removed]",
       "text": [
        "<matplotlib.figure.Figure at 0x1054e2550>"
       ]
      }
     ],
     "prompt_number": 20
    },
    {
     "cell_type": "markdown",
     "metadata": {},
     "source": [
      "<br>\n",
      "<br>"
     ]
    },
    {
     "cell_type": "heading",
     "level": 1,
     "metadata": {},
     "source": [
      "Grouped bar plot"
     ]
    },
    {
     "cell_type": "markdown",
     "metadata": {},
     "source": [
      "[[back to top](#Sections)]"
     ]
    },
    {
     "cell_type": "code",
     "collapsed": false,
     "input": [
      "import matplotlib.pyplot as plt\n",
      "\n",
      "# Input data\n",
      "green_data = [1, 2, 3]\n",
      "blue_data = [3, 2, 1]\n",
      "red_data = [2, 3, 3]\n",
      "labels = ['group 1', 'group 2', 'group 3']\n",
      "\n",
      "# Setting the positions and width for the bars\n",
      "pos = list(range(len(green_data))) \n",
      "width = 0.2 \n",
      "    \n",
      "# Plotting the bars\n",
      "fig, ax = plt.subplots(figsize=(8,6))\n",
      "\n",
      "plt.bar(pos, green_data, width,\n",
      "                 alpha=0.5,\n",
      "                 color='g',\n",
      "                 label=labels[0])\n",
      "\n",
      "plt.bar([p + width for p in pos], blue_data, width,\n",
      "                 alpha=0.5,\n",
      "                 color='b',\n",
      "                 label=labels[1])\n",
      "    \n",
      "plt.bar([p + width*2 for p in pos], red_data, width,\n",
      "                 alpha=0.5,\n",
      "                 color='r',\n",
      "                 label=labels[2])\n",
      "\n",
      "# Setting axis labels and ticks\n",
      "ax.set_ylabel('y-value')\n",
      "ax.set_title('Grouped bar plot')\n",
      "ax.set_xticks([p + 1.5 * width for p in pos])\n",
      "ax.set_xticklabels(labels)\n",
      "\n",
      "# Setting the x-axis and y-axis limits\n",
      "plt.xlim(0-width, len(green_data))\n",
      "plt.ylim([0, max(green_data + blue_data + red_data) * 1.5])\n",
      "\n",
      "# Adding the legend and showing the plot\n",
      "plt.legend(['green', 'blue', 'red'], loc='upper left')\n",
      "plt.grid()\n",
      "plt.show()"
     ],
     "language": "python",
     "metadata": {},
     "outputs": [
      {
       "metadata": {},
       "output_type": "display_data",
       "png": "[encoded data removed]",
       "text": [
        "<matplotlib.figure.Figure at 0x1056bd710>"
       ]
      }
     ],
     "prompt_number": 4
    },
    {
     "cell_type": "markdown",
     "metadata": {},
     "source": [
      "<br>\n",
      "<br>"
     ]
    },
    {
     "cell_type": "heading",
     "level": 1,
     "metadata": {},
     "source": [
      "Stacked bar plot"
     ]
    },
    {
     "cell_type": "markdown",
     "metadata": {},
     "source": [
      "[[back to top](#Sections)]"
     ]
    },
    {
     "cell_type": "code",
     "collapsed": false,
     "input": [
      "import matplotlib.pyplot as plt\n",
      "\n",
      "blue_data = [100,120,140]\n",
      "red_data = [150,120,190]\n",
      "green_data = [80,70,90]\n",
      "\n",
      "f, (ax1, ax2) = plt.subplots(1, 2, figsize=(10,5))\n",
      "N = range(len(blue_data))\n",
      "\n",
      "## Absolute count\n",
      "\n",
      "ax1.bar(N, blue_data, \n",
      "        label='blue data', alpha=0.5, color='b')\n",
      "ax1.bar(N, red_data, \n",
      "        bottom=blue_data, label='red data', alpha=0.5, color='r')\n",
      "ax1.bar(N, green_data, \n",
      "        bottom=[i+j for i,j in zip(blue_data,red_data)], label='green data', alpha=0.5, color='g')\n",
      "\n",
      "plt.sca(ax1)\n",
      "plt.xticks([0.4, 1.4, 2.4],  ['category 1', 'category 2', 'category 3'])\n",
      "ax1.set_ylabel(\"Count\")\n",
      "ax1.set_xlabel(\"\")\n",
      "plt.legend(loc='upper left')\n",
      "plt.grid()\n",
      "\n",
      "## Percent\n",
      "\n",
      "totals = [i+j+k for i,j,k in zip(blue_data, red_data, green_data)]\n",
      "blue_rel = [i / j * 100 for  i,j in zip(blue_data, totals)]\n",
      "red_rel = [i / j * 100 for  i,j in zip(red_data, totals)]\n",
      "green_rel = [i / j * 100 for  i,j in zip(green_data, totals)]\n",
      "\n",
      "ax2.bar(N, blue_rel, \n",
      "        label='blue data', alpha=0.5, color='b')\n",
      "ax2.bar(N, red_rel, \n",
      "        bottom=blue_rel, label='red data', alpha=0.5, color='r')\n",
      "ax2.bar(N, green_rel, \n",
      "        bottom=[i+j for i,j in zip(blue_rel, red_rel)], label='green data', alpha=0.5, color='g')\n",
      "\n",
      "plt.sca(ax2)\n",
      "plt.xticks([0.4, 1.4, 2.4],  ['category 1', 'category 2', 'category 3'])\n",
      "ax2.set_ylabel(\"Percentage\")\n",
      "ax2.set_xlabel(\"\")\n",
      "plt.grid()\n",
      "\n",
      "plt.show()"
     ],
     "language": "python",
     "metadata": {},
     "outputs": [
      {
       "metadata": {},
       "output_type": "display_data",
       "png": "[encoded data removed]",
       "text": [
        "<matplotlib.figure.Figure at 0x105c719d0>"
       ]
      }
     ],
     "prompt_number": 15
    }
   ],
   "metadata": {}
  }
 ]
}