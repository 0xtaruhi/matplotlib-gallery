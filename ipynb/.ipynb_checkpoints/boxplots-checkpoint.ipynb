{
 "metadata": {
  "name": "",
  "signature": "sha256:2616ba43394c1d9fdf7f959700a221591a41113615c1063d7ea7ce0ba80e8c79"
 },
 "nbformat": 3,
 "nbformat_minor": 0,
 "worksheets": [
  {
   "cells": [
    {
     "cell_type": "markdown",
     "metadata": {},
     "source": [
      "[Sebastian Raschka](http://www.sebastianraschka.com)"
     ]
    },
    {
     "cell_type": "code",
     "collapsed": false,
     "input": [
      "import time\n",
      "print('Last updated:', time.strftime('%m/%d/%Y'))"
     ],
     "language": "python",
     "metadata": {},
     "outputs": [
      {
       "output_type": "stream",
       "stream": "stdout",
       "text": [
        "Last updated: 06/14/2014\n"
       ]
      }
     ],
     "prompt_number": 1
    },
    {
     "cell_type": "code",
     "collapsed": false,
     "input": [
      "%matplotlib inline"
     ],
     "language": "python",
     "metadata": {},
     "outputs": [],
     "prompt_number": 2
    },
    {
     "cell_type": "markdown",
     "metadata": {},
     "source": [
      "<br>\n",
      "<br>"
     ]
    },
    {
     "cell_type": "heading",
     "level": 1,
     "metadata": {},
     "source": [
      "Sections"
     ]
    },
    {
     "cell_type": "markdown",
     "metadata": {},
     "source": [
      "- [Simple boxplot](#Simple boxplot)"
     ]
    },
    {
     "cell_type": "markdown",
     "metadata": {},
     "source": [
      "<br>\n",
      "<br>"
     ]
    },
    {
     "cell_type": "markdown",
     "metadata": {},
     "source": [
      "<br>\n",
      "<br>"
     ]
    },
    {
     "cell_type": "markdown",
     "metadata": {},
     "source": [
      "![](../images/intro_boxplot.png)"
     ]
    },
    {
     "cell_type": "heading",
     "level": 1,
     "metadata": {},
     "source": [
      "Simple Boxplot"
     ]
    },
    {
     "cell_type": "code",
     "collapsed": false,
     "input": [
      "import matplotlib.pyplot as plt\n",
      "\n",
      "x1 = [-0.46,-1.25,-2.62,0.22]\n",
      "x2 = [0.24,1.88,-0.49,-0.73,-0.49]\n",
      "x3 = [-0.44,0.93,0.19,-4.36,-0.88]\n",
      "\n",
      "fig = plt.figure(figsize=(8,6))\n",
      "\n",
      "plt.boxplot([x for x in [x1, x2, x3]], 0, 'rs', 1)\n",
      "plt.yticks([y+1 for y in range(len([x1, x2, x3]))], ['x1', 'x2', 'x3'])\n",
      "plt.xlabel('measurement x')\n",
      "t = plt.title('Box plot')\n",
      "plt.show()"
     ],
     "language": "python",
     "metadata": {},
     "outputs": [
      {
       "metadata": {},
       "output_type": "display_data",
       "png": "[encoded data removed]",
       "text": [
        "<matplotlib.figure.Figure at 0x10572f850>"
       ]
      }
     ],
     "prompt_number": 10
    }
   ],
   "metadata": {}
  }
 ]
}