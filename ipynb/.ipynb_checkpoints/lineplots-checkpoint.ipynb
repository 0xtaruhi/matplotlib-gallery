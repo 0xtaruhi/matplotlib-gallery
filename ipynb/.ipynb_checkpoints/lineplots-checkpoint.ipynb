{
 "metadata": {
  "name": "",
  "signature": "sha256:620e58decb4d1a8df8844e9666ab68cea7523b7033f71ece528e419e29aa1a37"
 },
 "nbformat": 3,
 "nbformat_minor": 0,
 "worksheets": [
  {
   "cells": [
    {
     "cell_type": "markdown",
     "metadata": {},
     "source": [
      "[Sebastian Raschka](http://www.sebastianraschka.com)"
     ]
    },
    {
     "cell_type": "code",
     "collapsed": false,
     "input": [
      "import time\n",
      "print('Last updated:', time.strftime('%m/%d/%Y'))"
     ],
     "language": "python",
     "metadata": {},
     "outputs": [
      {
       "output_type": "stream",
       "stream": "stdout",
       "text": [
        "Last updated: 06/12/2014\n"
       ]
      }
     ],
     "prompt_number": 1
    },
    {
     "cell_type": "code",
     "collapsed": false,
     "input": [
      "%matplotlib inline"
     ],
     "language": "python",
     "metadata": {},
     "outputs": [],
     "prompt_number": 2
    },
    {
     "cell_type": "markdown",
     "metadata": {},
     "source": [
      "<br>\n",
      "<br>"
     ]
    },
    {
     "cell_type": "heading",
     "level": 1,
     "metadata": {},
     "source": [
      "Sections"
     ]
    },
    {
     "cell_type": "markdown",
     "metadata": {},
     "source": [
      "- [Simple line plot](#Simple-line-plot)\n",
      "\n",
      "- [Gaussian probability density functions](#Gaussian-probability-density-functions)"
     ]
    },
    {
     "cell_type": "markdown",
     "metadata": {},
     "source": [
      "<br>\n",
      "<br>"
     ]
    },
    {
     "cell_type": "heading",
     "level": 1,
     "metadata": {},
     "source": [
      "Simple line plot"
     ]
    },
    {
     "cell_type": "markdown",
     "metadata": {},
     "source": [
      "[[back to top](#Sections)]"
     ]
    },
    {
     "cell_type": "code",
     "collapsed": false,
     "input": [
      "import matplotlib.pyplot as plt\n",
      "\n",
      "x = [1, 2, 3]\n",
      "\n",
      "y_1 = [0.632433333333333,5.96236666666667,60.9595666666667]\n",
      "y_2 = [0.528633333333333,5.1351,52.6026666666667]\n",
      "\n",
      "y_1_err = [0.000138043333333333,0.0398697433333334,2.13196982333333] \n",
      "y_2_err = [0.000141293333333333,0.00739423000000004,0.358660123333335]\n",
      "\n",
      "x_labels = [\"n = 10^6\", \"n = 10^7\", \"n = 10^8\"]\n",
      "\n",
      "plt.figure()\n",
      "plt.errorbar(x, y_1, yerr=y_1_err, fmt='-x')\n",
      "plt.errorbar(x, y_2, yerr=y_2_err, fmt='-^')\n",
      "\n",
      "plt.xticks(x, x_labels)\n",
      "plt.xlim([0,4])\n",
      "plt.xlabel('size n')\n",
      "plt.ylabel('cpu time in sec')\n",
      "plt.yscale('log')\n",
      "plt.title('Dictionary initialization 1')\n",
      "plt.legend(['init_dict_1.py', 'init_dict_2.py'], loc='upper left')\n",
      "\n",
      "plt.show()"
     ],
     "language": "python",
     "metadata": {},
     "outputs": [
      {
       "metadata": {},
       "output_type": "display_data",
       "png": "[encoded data removed]",
       "text": [
        "<matplotlib.figure.Figure at 0x1061f74d0>"
       ]
      }
     ],
     "prompt_number": 3
    },
    {
     "cell_type": "markdown",
     "metadata": {},
     "source": [
      "<br>\n",
      "<br>"
     ]
    },
    {
     "cell_type": "heading",
     "level": 1,
     "metadata": {},
     "source": [
      "Gaussian probability density functions"
     ]
    },
    {
     "cell_type": "markdown",
     "metadata": {},
     "source": [
      "[[back to top](#Sections)]"
     ]
    },
    {
     "cell_type": "code",
     "collapsed": false,
     "input": [
      "import numpy as np\n",
      "from matplotlib import pyplot as plt\n",
      "import math\n",
      "\n",
      "def pdf(x, mu=0, sigma=1):\n",
      "    \"\"\"Calculates the normal distribution's probability density \n",
      "        function (PDF).  \n",
      "        \n",
      "    \"\"\"\n",
      "    term1 = 1.0 / ( math.sqrt(2*np.pi) * sigma )\n",
      "    term2 = np.exp( -0.5 * ( (x-mu)/sigma )**2 )\n",
      "    return term1 * term2\n",
      "\n",
      "\n",
      "x = np.arange(0, 100, 0.05)\n",
      "\n",
      "pdf1 = pdf(x, mu=5, sigma=2.5**0.5)\n",
      "pdf2 = pdf(x, mu=10, sigma=6**0.5)\n",
      "\n",
      "plt.plot(x, pdf1)\n",
      "plt.plot(x, pdf2)\n",
      "plt.title('Probability Density Functions')\n",
      "plt.ylabel('p(x)')\n",
      "plt.xlabel('random variable x')\n",
      "plt.legend(['pdf1 ~ N(5,2.5)', 'pdf2 ~ N(10,6)'], loc='upper right')\n",
      "plt.ylim([0,0.5])\n",
      "plt.xlim([0,20])\n",
      "\n",
      "plt.show()"
     ],
     "language": "python",
     "metadata": {},
     "outputs": [
      {
       "metadata": {},
       "output_type": "display_data",
       "png": "[encoded data removed]",
       "text": [
        "<matplotlib.figure.Figure at 0x104e709d0>"
       ]
      }
     ],
     "prompt_number": 4
    },
    {
     "cell_type": "code",
     "collapsed": false,
     "input": [],
     "language": "python",
     "metadata": {},
     "outputs": []
    }
   ],
   "metadata": {}
  }
 ]
}