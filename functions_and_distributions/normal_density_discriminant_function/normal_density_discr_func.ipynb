{
 "metadata": {
  "name": ""
 },
 "nbformat": 3,
 "nbformat_minor": 0,
 "worksheets": [
  {
   "cells": [
    {
     "cell_type": "code",
     "collapsed": false,
     "input": [
      "import numpy as np"
     ],
     "language": "python",
     "metadata": {},
     "outputs": [],
     "prompt_number": 2
    },
    {
     "cell_type": "heading",
     "level": 1,
     "metadata": {},
     "source": [
      "Discriminant Function For The Normal Density"
     ]
    },
    {
     "cell_type": "heading",
     "level": 2,
     "metadata": {},
     "source": [
      "1. Some tests"
     ]
    },
    {
     "cell_type": "heading",
     "level": 4,
     "metadata": {},
     "source": [
      "1.1 Determinant of a matrix"
     ]
    },
    {
     "cell_type": "code",
     "collapsed": false,
     "input": [
      "A = np.array([[6,1,1],[4,-2,5],[2,8,7]])\n",
      "#A\n",
      "#array([[ 6,  1,  1],\n",
      "#       [ 4, -2,  5],\n",
      "#       [ 2,  8,  7]])\n",
      "assert(np.linalg.det(A) == -306.0), print('Determinant val is wrong')"
     ],
     "language": "python",
     "metadata": {},
     "outputs": [],
     "prompt_number": 6
    },
    {
     "cell_type": "heading",
     "level": 4,
     "metadata": {},
     "source": [
      "1.2 Inverse of a matrix"
     ]
    },
    {
     "cell_type": "code",
     "collapsed": false,
     "input": [
      "A = np.array([[4, 7], [2, 6]])\n",
      "I = np.array([[1, 0], [0, 1]])\n",
      "A_inv = np.linalg.inv(A)\n",
      "\n",
      "# A * A^-1 should yield the Identity matrix\n",
      "assert(np.dot(A, A_inv).all() == I.all()), print('Should be A * A^(-1) = I')"
     ],
     "language": "python",
     "metadata": {},
     "outputs": [],
     "prompt_number": 16
    },
    {
     "cell_type": "heading",
     "level": 4,
     "metadata": {},
     "source": [
      "1.3 Vector-matrix multiplication"
     ]
    },
    {
     "cell_type": "code",
     "collapsed": false,
     "input": [
      "V = np.array([[4], [6]]).T  # transpose to row_vec\n",
      "A = np.array([[4, 7], [2, 6]])\n",
      "Cov = np.array([[0, 1], [1, 0]])\n",
      "\n",
      "mult = np.dot((V-A).T, Cov)\n",
      "expect = np.array([[ 2,  0], [ 0, -1]])\n",
      "assert(mult.all() == expect.all())"
     ],
     "language": "python",
     "metadata": {},
     "outputs": [],
     "prompt_number": 20
    },
    {
     "cell_type": "heading",
     "level": 4,
     "metadata": {},
     "source": [
      "1.4 Generating Random Data from a Gaussian distribution"
     ]
    },
    {
     "cell_type": "code",
     "collapsed": false,
     "input": [
      "mean_1 = np.array([0,0])\n",
      "cov_1 = np.array([[2,0],[0,2]])\n",
      "\n",
      "# Matrix of 100 2 column vectors\n",
      "sample_data1 = np.random.multivariate_normal(mean_1, cov_1, 100)\n",
      "assert(sample_data1.shape == (100, 2))"
     ],
     "language": "python",
     "metadata": {},
     "outputs": [],
     "prompt_number": 22
    },
    {
     "cell_type": "heading",
     "level": 2,
     "metadata": {},
     "source": [
      "2. Discriminant Function for Normal Densities"
     ]
    },
    {
     "cell_type": "code",
     "collapsed": false,
     "input": [
      "def discr_func(x_vec, mu_vec, cov_mat, dim, P_w):\n",
      "    term1 = (-1/2) * (x_vec - mu_vec).T\n",
      "    term2 = np.dot(term1, np.linalg.inv(cov_mat))\n",
      "    term3 = np.dot(term2, (x_vec - mu_vec)) - (dim/2 * np.log(2 * np.pi)\n",
      "    term4 = term3 (-1/2) * np.log(np.linalg.det(cov_mat)) + np.ln(P_w)\n",
      "    return term4"
     ],
     "language": "python",
     "metadata": {},
     "outputs": []
    }
   ],
   "metadata": {}
  }
 ]
}